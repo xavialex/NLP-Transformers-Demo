{
 "cells": [
  {
   "cell_type": "markdown",
   "metadata": {},
   "source": [
    "# NLP Transformers Pipelines\n",
    "\n",
    "This notebook pretends to show the use cases provided by the [*transformers*](https://huggingface.co/transformers/) library. More specifically, there's a high-level API that provides [*Pipelines*](https://huggingface.co/transformers/main_classes/pipelines.html) with pretrained specific models."
   ]
  },
  {
   "cell_type": "code",
   "execution_count": 6,
   "metadata": {},
   "outputs": [],
   "source": [
    "import json\n",
    "\n",
    "from transformers import pipeline"
   ]
  },
  {
   "cell_type": "markdown",
   "metadata": {},
   "source": [
    "## Load of Pipelines\n",
    "\n",
    "Please, take in mind that the pipelines above contain large pretrained language models to download (+250 MB). Feel free to use whatever of them you might find useful."
   ]
  },
  {
   "cell_type": "code",
   "execution_count": 8,
   "metadata": {},
   "outputs": [
    {
     "data": {
      "application/vnd.jupyter.widget-view+json": {
       "model_id": "65515536cbbe4b8c9c484019537f5988",
       "version_major": 2,
       "version_minor": 0
      },
      "text/plain": [
       "HBox(children=(FloatProgress(value=0.0, description='Downloading', max=230.0, style=ProgressStyle(description_…"
      ]
     },
     "metadata": {},
     "output_type": "display_data"
    },
    {
     "name": "stdout",
     "output_type": "stream",
     "text": [
      "\n"
     ]
    }
   ],
   "source": [
    "sentiment_analysis_pipeline = pipeline('sentiment-analysis')"
   ]
  },
  {
   "cell_type": "code",
   "execution_count": 9,
   "metadata": {},
   "outputs": [
    {
     "data": {
      "application/vnd.jupyter.widget-view+json": {
       "model_id": "209ec202349f4283a5109364394e2f9b",
       "version_major": 2,
       "version_minor": 0
      },
      "text/plain": [
       "HBox(children=(FloatProgress(value=0.0, description='Downloading', max=230.0, style=ProgressStyle(description_…"
      ]
     },
     "metadata": {},
     "output_type": "display_data"
    },
    {
     "name": "stdout",
     "output_type": "stream",
     "text": [
      "\n"
     ]
    }
   ],
   "source": [
    "question_answering_pipeline = pipeline('question-answering')"
   ]
  },
  {
   "cell_type": "code",
   "execution_count": 10,
   "metadata": {},
   "outputs": [],
   "source": [
    "summarization_pipeline = pipeline('summarization')"
   ]
  },
  {
   "cell_type": "code",
   "execution_count": 11,
   "metadata": {},
   "outputs": [
    {
     "data": {
      "application/vnd.jupyter.widget-view+json": {
       "model_id": "fe99d33117304ff184ef1f239b83e593",
       "version_major": 2,
       "version_minor": 0
      },
      "text/plain": [
       "HBox(children=(FloatProgress(value=0.0, description='Downloading', max=230.0, style=ProgressStyle(description_…"
      ]
     },
     "metadata": {},
     "output_type": "display_data"
    },
    {
     "name": "stdout",
     "output_type": "stream",
     "text": [
      "\n"
     ]
    }
   ],
   "source": [
    "fill_mask_pipeline = pipeline('fill-mask')"
   ]
  },
  {
   "cell_type": "markdown",
   "metadata": {},
   "source": [
    "## Sentiment Analysis\n",
    "\n",
    "Find out the sentiment associated to a particular text."
   ]
  },
  {
   "cell_type": "code",
   "execution_count": 6,
   "metadata": {},
   "outputs": [
    {
     "name": "stdout",
     "output_type": "stream",
     "text": [
      "[{'label': 'POSITIVE', 'score': 0.9998406767845154}]\n"
     ]
    }
   ],
   "source": [
    "text = \"The quality of the food was outstanding and the service was really helpful\"\n",
    "print(sentiment_analysis_pipeline(text))"
   ]
  },
  {
   "cell_type": "code",
   "execution_count": 10,
   "metadata": {},
   "outputs": [
    {
     "name": "stdout",
     "output_type": "stream",
     "text": [
      "[{'label': 'NEGATIVE', 'score': 0.9998052716255188}]\n"
     ]
    }
   ],
   "source": [
    "text = \"The movie was plain and boring, and the cinema too crowded\"\n",
    "print(sentiment_analysis_pipeline(text))"
   ]
  },
  {
   "cell_type": "markdown",
   "metadata": {},
   "source": [
    "## Questions & Answers\n",
    "\n",
    "Given a certain text, the pipeline will process it and, for a particular question, will give its answer and the text position where it is located."
   ]
  },
  {
   "cell_type": "code",
   "execution_count": 14,
   "metadata": {},
   "outputs": [],
   "source": [
    "text = \"\"\"The great pyramid of Giza has a height of 138.8 meters. It's also one of the Seven Wonders of the Ancient World\"\"\""
   ]
  },
  {
   "cell_type": "code",
   "execution_count": 16,
   "metadata": {},
   "outputs": [
    {
     "name": "stdout",
     "output_type": "stream",
     "text": [
      "{'score': 0.9495661311375265, 'start': 42, 'end': 55, 'answer': '138.8 meters.'}\n",
      "{'score': 0.7056748149489778, 'start': 56, 'end': 110, 'answer': \"It's also one of the Seven Wonders of the Ancient World\"}\n"
     ]
    }
   ],
   "source": [
    "print(question_answering_pipeline(question=f\"How tall is the pyramid of Giza\", context=text))\n",
    "print(question_answering_pipeline(question=f\"Is the pyramid of Giza one of the Ancient World Wonders?\", context=text))"
   ]
  },
  {
   "cell_type": "markdown",
   "metadata": {},
   "source": [
    "## Text summarization\n",
    "Summarize a given text. You can specify the maximum and minimum length of the summarization's result."
   ]
  },
  {
   "cell_type": "code",
   "execution_count": 64,
   "metadata": {},
   "outputs": [],
   "source": [
    "text = \"\"\"Three of the biggest AI vendors pledged to stop providing face \n",
    "    recognition services to police — but other companies continue to serve \n",
    "    the law-enforcement market.\n",
    "    What’s new: Amid protests over police killings of unarmed Black people \n",
    "    in the U.S., Amazon imposed a one year moratorium on licensing its \n",
    "    Rekognition technology to police departments, and Microsoft announced \n",
    "    a similar hiatus. Both said they would re-enter the market if the \n",
    "    government imposed limits on police use of the technology. IBM exited \n",
    "    the face recognition market altogether.\n",
    "    Demand, meet supply: The big AI companies are highly visible, but \n",
    "    most law enforcement agencies get the technology from lesser-known \n",
    "    firms, the Wall Street Journal reported.\n",
    "    \n",
    "    Clearview AI has 2,400 police customers in the U.S. and Canada.\n",
    "    NEC licenses face recognition to 20 law enforcement agencies. \n",
    "    Ayonix, iOmniscient, and Herta Security each serve a handful of \n",
    "    U.S. law enforcement agencies. The French company Idemia works \n",
    "    with the New York Police Dept., the U.S. State Dept., and the U.S. \n",
    "    Transportation Safety Administration as well as the European and \n",
    "    Australian governments.Why it matters: Concern over fairness in law \n",
    "    enforcement has renewed worries that unfettered use of face recognition \n",
    "    leads to miscarriages of justice. Research spearheaded by MIT Media Lab \n",
    "    researcher Joy Buolamwini showed that commercially available systems \n",
    "    consistently misclassified women and people with darker complexions. A \n",
    "    study by the American Civil Liberties Union found that Amazon’s system \n",
    "    erroneously matched mugshots with the faces of 28 members of the U.S. \n",
    "    Congress. Some police departments have misused the technology in ways \n",
    "    that experts say could lead to mistaken arrests.\n",
    "    We’re thinking: It's great to see the big AI providers exercising \n",
    "    responsibility. Now we need prudent regulation and auditing mechanisms \n",
    "    geared to protect civil rights and support social justice.\"\"\""
   ]
  },
  {
   "cell_type": "code",
   "execution_count": 65,
   "metadata": {},
   "outputs": [
    {
     "name": "stdout",
     "output_type": "stream",
     "text": [
      "[\n",
      "  {\n",
      "    \"summary_text\": \"Amazon, Microsoft, and IBM have pledged to stop providing face recognition services to police. But other companies continue to serve the law-enforcement market. Concerns that unfettered use of face recognition leads to miscarriages of justice.\"\n",
      "  }\n",
      "]\n"
     ]
    }
   ],
   "source": [
    "print(json.dumps(summarization_pipeline(text, max_length=130, min_length=30), indent=2))"
   ]
  },
  {
   "cell_type": "markdown",
   "metadata": {},
   "source": [
    "## Fill Mask\n",
    "This Pipeline is able to fill a blank token in a given sentence."
   ]
  },
  {
   "cell_type": "code",
   "execution_count": 7,
   "metadata": {},
   "outputs": [
    {
     "name": "stdout",
     "output_type": "stream",
     "text": [
      "[\n",
      "  {\n",
      "    \"sequence\": \"<s> The Fitzerald's Steak House has one of the best burgers in town.</s>\",\n",
      "    \"score\": 0.1277015060186386,\n",
      "    \"token\": 22551\n",
      "  },\n",
      "  {\n",
      "    \"sequence\": \"<s> The Fitzerald's Steak House has one of the best restaurants in town.</s>\",\n",
      "    \"score\": 0.10874764621257782,\n",
      "    \"token\": 4329\n",
      "  },\n",
      "  {\n",
      "    \"sequence\": \"<s> The Fitzerald's Steak House has one of the best ribs in town.</s>\",\n",
      "    \"score\": 0.06571755558252335,\n",
      "    \"token\": 21443\n",
      "  },\n",
      "  {\n",
      "    \"sequence\": \"<s> The Fitzerald's Steak House has one of the best sandwiches in town.</s>\",\n",
      "    \"score\": 0.05932178720831871,\n",
      "    \"token\": 19072\n",
      "  },\n",
      "  {\n",
      "    \"sequence\": \"<s> The Fitzerald's Steak House has one of the best wines in town.</s>\",\n",
      "    \"score\": 0.04994919151067734,\n",
      "    \"token\": 13921\n",
      "  }\n",
      "]\n"
     ]
    }
   ],
   "source": [
    "text = \"The Fitzerald's Steak House has one of the best {nlp.tokenizer.mask_token} in town.\"\n",
    "print(json.dumps(fill_mask_pipeline(f\"The Fitzerald's Steak House has one of the best {fill_mask_pipeline.tokenizer.mask_token} in town.\"), indent=2))"
   ]
  },
  {
   "cell_type": "code",
   "execution_count": null,
   "metadata": {},
   "outputs": [],
   "source": []
  }
 ],
 "metadata": {
  "kernelspec": {
   "display_name": "myenv",
   "language": "python",
   "name": "myenv"
  },
  "language_info": {
   "codemirror_mode": {
    "name": "ipython",
    "version": 3
   },
   "file_extension": ".py",
   "mimetype": "text/x-python",
   "name": "python",
   "nbconvert_exporter": "python",
   "pygments_lexer": "ipython3",
   "version": "3.6.9"
  }
 },
 "nbformat": 4,
 "nbformat_minor": 4
}
